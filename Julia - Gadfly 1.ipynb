{
 "metadata": {
  "language": "Julia",
  "name": "",
  "signature": "sha256:d4099ce05745f8059741f7907c0c47fa18bfe37fe4d83d4a323ce21106d70294"
 },
 "nbformat": 3,
 "nbformat_minor": 0,
 "worksheets": [
  {
   "cells": [
    {
     "cell_type": "code",
     "collapsed": false,
     "input": [
      "#Visualization\n",
      "using Gadfly\n",
      "\n",
      "#(Python) pandas analogue\n",
      "require(\"DataFrames\")\n",
      "\n",
      "#Practice sets\n",
      "require(\"RDatasets\")\n",
      "\n",
      "#Extract the Hedonic set\n",
      "hedonic=RDatasets.dataset(\"plm\",\"Hedonic\")\n",
      "\n",
      "#Define density plot layer for black population proportion\n",
      "dens_layer=layer(hedonic,x=:Blacks,Geom.density,Theme(default_color=color(\"#de2d26\")))\n",
      "\n",
      "#Plot kernel density\n",
      "dens_plot=plot(dens_layer, Guide.title(\"Distribution of Black Proportion\"))"
     ],
     "language": "python",
     "metadata": {},
     "outputs": [
      {
       "ename": "LoadError",
       "evalue": "RDatasets not found\nwhile loading In[3], in expression starting on line 8",
       "output_type": "pyerr",
       "traceback": [
        "RDatasets not found\nwhile loading In[3], in expression starting on line 8",
        "",
        " in require at loading.jl:47"
       ]
      }
     ],
     "prompt_number": 3
    },
    {
     "cell_type": "code",
     "collapsed": false,
     "input": [],
     "language": "python",
     "metadata": {},
     "outputs": []
    }
   ],
   "metadata": {}
  }
 ]
}