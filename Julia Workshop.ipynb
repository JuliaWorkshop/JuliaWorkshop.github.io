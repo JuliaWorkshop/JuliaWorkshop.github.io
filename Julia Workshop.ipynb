{
 "metadata": {
  "language": "Julia",
  "name": "",
  "signature": "sha256:b9b6f00ea0a482b15cd3da6c6f2dd03fe7970370d92dd84c6f25a4e6539b2a67"
 },
 "nbformat": 3,
 "nbformat_minor": 0,
 "worksheets": [
  {
   "cells": [
    {
     "cell_type": "markdown",
     "metadata": {},
     "source": [
      "### Some Basic Julia Commands"
     ]
    },
    {
     "cell_type": "code",
     "collapsed": false,
     "input": [
      "a=8;\n",
      "a*5"
     ],
     "language": "python",
     "metadata": {},
     "outputs": [
      {
       "metadata": {},
       "output_type": "pyout",
       "prompt_number": 1,
       "text": [
        "40"
       ]
      }
     ],
     "prompt_number": 1
    },
    {
     "cell_type": "code",
     "collapsed": false,
     "input": [
      "exp(-0.50)"
     ],
     "language": "python",
     "metadata": {},
     "outputs": [
      {
       "metadata": {},
       "output_type": "pyout",
       "prompt_number": 2,
       "text": [
        "0.6065306597126334"
       ]
      }
     ],
     "prompt_number": 2
    },
    {
     "cell_type": "code",
     "collapsed": false,
     "input": [
      "log10(100)"
     ],
     "language": "python",
     "metadata": {},
     "outputs": [
      {
       "metadata": {},
       "output_type": "pyout",
       "prompt_number": 3,
       "text": [
        "2.0"
       ]
      }
     ],
     "prompt_number": 3
    },
    {
     "cell_type": "code",
     "collapsed": false,
     "input": [
      "typeof(1:10)"
     ],
     "language": "python",
     "metadata": {},
     "outputs": [
      {
       "metadata": {},
       "output_type": "pyout",
       "prompt_number": 6,
       "text": [
        "UnitRange{Int64} (constructor with 1 method)"
       ]
      }
     ],
     "prompt_number": 6
    },
    {
     "cell_type": "code",
     "collapsed": false,
     "input": [
      "isprime(101)"
     ],
     "language": "python",
     "metadata": {},
     "outputs": [
      {
       "metadata": {},
       "output_type": "pyout",
       "prompt_number": 8,
       "text": [
        "true"
       ]
      }
     ],
     "prompt_number": 8
    },
    {
     "cell_type": "code",
     "collapsed": false,
     "input": [
      "rem(10,4)"
     ],
     "language": "python",
     "metadata": {},
     "outputs": [
      {
       "metadata": {},
       "output_type": "pyout",
       "prompt_number": 13,
       "text": [
        "2"
       ]
      }
     ],
     "prompt_number": 13
    },
    {
     "cell_type": "code",
     "collapsed": false,
     "input": [
      "X = (2^60)\n"
     ],
     "language": "python",
     "metadata": {},
     "outputs": [
      {
       "metadata": {},
       "output_type": "pyout",
       "prompt_number": 27,
       "text": [
        "1152921504606846976"
       ]
      }
     ],
     "prompt_number": 27
    },
    {
     "cell_type": "code",
     "collapsed": false,
     "input": [
      "typeof(X)"
     ],
     "language": "python",
     "metadata": {},
     "outputs": [
      {
       "metadata": {},
       "output_type": "pyout",
       "prompt_number": 28,
       "text": [
        "Int64"
       ]
      }
     ],
     "prompt_number": 28
    },
    {
     "cell_type": "markdown",
     "metadata": {},
     "source": [
      "### Generate (uniform) random numbers"
     ]
    },
    {
     "cell_type": "code",
     "collapsed": false,
     "input": [
      "Y=rand(10)"
     ],
     "language": "python",
     "metadata": {},
     "outputs": [
      {
       "metadata": {},
       "output_type": "pyout",
       "prompt_number": 29,
       "text": [
        "10-element Array{Float64,1}:\n",
        " 0.313854\n",
        " 0.788523\n",
        " 0.403793\n",
        " 0.268491\n",
        " 0.933245\n",
        " 0.772687\n",
        " 0.341834\n",
        " 0.837334\n",
        " 0.924855\n",
        " 0.385276"
       ]
      }
     ],
     "prompt_number": 29
    },
    {
     "cell_type": "markdown",
     "metadata": {},
     "source": [
      "### Generate a random sequence of \"1\" and \"-1\"s\n",
      "X is a sequence of *n* uniform random variables (0,1)\n",
      "\n",
      "p is the probability of a success\n",
      "\n",
      "<pre><code>\n",
      "Y = sign (X - p)\n",
      "</code></pre>"
     ]
    },
    {
     "cell_type": "code",
     "collapsed": false,
     "input": [
      "n = 10\n",
      "p = 0.45\n",
      "X=sign(rand(n)-p)"
     ],
     "language": "python",
     "metadata": {},
     "outputs": [
      {
       "metadata": {},
       "output_type": "pyout",
       "prompt_number": 31,
       "text": [
        "10-element Array{Float64,1}:\n",
        "  1.0\n",
        "  1.0\n",
        " -1.0\n",
        "  1.0\n",
        " -1.0\n",
        " -1.0\n",
        "  1.0\n",
        "  1.0\n",
        " -1.0\n",
        " -1.0"
       ]
      }
     ],
     "prompt_number": 31
    },
    {
     "cell_type": "code",
     "collapsed": false,
     "input": [
      "n = 100\n",
      "p = 0.475\n",
      "X=sign(rand(n)-p)\n",
      "cumsum(X)"
     ],
     "language": "python",
     "metadata": {},
     "outputs": [
      {
       "metadata": {},
       "output_type": "pyout",
       "prompt_number": 33,
       "text": [
        "100-element Array{Float64,1}:\n",
        "  1.0\n",
        "  0.0\n",
        "  1.0\n",
        "  2.0\n",
        "  1.0\n",
        "  2.0\n",
        "  3.0\n",
        "  2.0\n",
        "  3.0\n",
        "  4.0\n",
        "  5.0\n",
        "  6.0\n",
        "  5.0\n",
        "  \u22ee  \n",
        " -1.0\n",
        " -2.0\n",
        " -1.0\n",
        " -2.0\n",
        " -3.0\n",
        " -2.0\n",
        " -1.0\n",
        " -2.0\n",
        " -3.0\n",
        " -4.0\n",
        " -3.0\n",
        " -4.0"
       ]
      }
     ],
     "prompt_number": 33
    },
    {
     "cell_type": "code",
     "collapsed": false,
     "input": [],
     "language": "python",
     "metadata": {},
     "outputs": []
    }
   ],
   "metadata": {}
  }
 ]
}