{
 "metadata": {
  "language": "Julia",
  "name": "",
  "signature": "sha256:a1a347ca946637f8412066be133983459a01cbfe0a0bf30f43b30594240743d5"
 },
 "nbformat": 3,
 "nbformat_minor": 0,
 "worksheets": [
  {
   "cells": [
    {
     "cell_type": "code",
     "collapsed": false,
     "input": [
      "function rmeans(dist, nobs; nsims = 500)\n",
      "    means = Array(Float64,nsims)\n",
      "    for i in 1:nsims\n",
      "        means[i] = mean(rand(dist, nobs))\n",
      "    end\n",
      "    return means\n",
      "end\n"
     ],
     "language": "python",
     "metadata": {},
     "outputs": [
      {
       "metadata": {},
       "output_type": "pyout",
       "prompt_number": 1,
       "text": [
        "rmeans (generic function with 1 method)"
       ]
      }
     ],
     "prompt_number": 1
    },
    {
     "cell_type": "code",
     "collapsed": false,
     "input": [
      "rmeans(4,10)"
     ],
     "language": "python",
     "metadata": {},
     "outputs": [
      {
       "metadata": {},
       "output_type": "pyout",
       "prompt_number": 5,
       "text": [
        "500-element Array{Float64,1}:\n",
        " 0.519877\n",
        " 0.483082\n",
        " 0.491839\n",
        " 0.463986\n",
        " 0.50985 \n",
        " 0.574035\n",
        " 0.505304\n",
        " 0.466429\n",
        " 0.507327\n",
        " 0.512855\n",
        " 0.494802\n",
        " 0.46341 \n",
        " 0.442956\n",
        " \u22ee       \n",
        " 0.495416\n",
        " 0.477394\n",
        " 0.574458\n",
        " 0.479857\n",
        " 0.518614\n",
        " 0.440214\n",
        " 0.456334\n",
        " 0.464231\n",
        " 0.506535\n",
        " 0.517079\n",
        " 0.562495\n",
        " 0.480964"
       ]
      }
     ],
     "prompt_number": 5
    },
    {
     "cell_type": "code",
     "collapsed": false,
     "input": [
      "rand(5, 5)"
     ],
     "language": "python",
     "metadata": {},
     "outputs": [
      {
       "metadata": {},
       "output_type": "pyout",
       "prompt_number": 9,
       "text": [
        "5x5 Array{Float64,2}:\n",
        " 0.908606  0.340818  0.148797  0.0738262  0.58865 \n",
        " 0.436145  0.288225  0.581867  0.477085   0.295236\n",
        " 0.473655  0.656822  0.341726  0.33226    0.211344\n",
        " 0.191275  0.825354  0.849834  0.75123    0.233367\n",
        " 0.370471  0.433986  0.193176  0.311901   0.43196 "
       ]
      }
     ],
     "prompt_number": 9
    },
    {
     "cell_type": "code",
     "collapsed": false,
     "input": [
      "rand(10,10)"
     ],
     "language": "python",
     "metadata": {},
     "outputs": [
      {
       "metadata": {},
       "output_type": "pyout",
       "prompt_number": 7,
       "text": [
        "10x10 Array{Float64,2}:\n",
        " 0.185305  0.471703   0.259667  0.609035  \u2026  0.794229  0.470498   0.451891  \n",
        " 0.429826  0.789669   0.876047  0.562644     0.462036  0.380917   0.190509  \n",
        " 0.347619  0.852819   0.497071  0.379631     0.287294  0.598885   0.00113352\n",
        " 0.825144  0.0261809  0.16818   0.63648      0.207194  0.660583   0.412167  \n",
        " 0.280966  0.428887   0.765661  0.230111     0.743299  0.988955   0.600843  \n",
        " 0.594187  0.261601   0.248746  0.456524  \u2026  0.180627  0.787175   0.933264  \n",
        " 0.716131  0.468595   0.306105  0.291766     0.486972  0.0544106  0.767643  \n",
        " 0.297295  0.179065   0.989427  0.427863     0.293417  0.855191   0.905085  \n",
        " 0.745271  0.529707   0.665522  0.460339     0.943848  0.0498204  0.0193575 \n",
        " 0.882614  0.283326   0.229657  0.398077     0.708811  0.116459   0.0719985 "
       ]
      }
     ],
     "prompt_number": 7
    },
    {
     "cell_type": "code",
     "collapsed": false,
     "input": [
      "\n",
      "rmeans_pretty(dist, nobs; nsims = 500) =\n",
      "    [ mean(rand(dist, nobs)) for i = 1:nsims ]"
     ],
     "language": "python",
     "metadata": {},
     "outputs": [
      {
       "metadata": {},
       "output_type": "pyout",
       "prompt_number": 10,
       "text": [
        "rmeans_pretty (generic function with 1 method)"
       ]
      }
     ],
     "prompt_number": 10
    },
    {
     "cell_type": "code",
     "collapsed": false,
     "input": [
      "N = 100;\n",
      "\n",
      "sum_square = 0;\n",
      "\n",
      "square_sum = 0;\n",
      "\n",
      "for i = 1:N\n",
      "\n",
      "    sum_square = sum_square + i^2;\n",
      "\n",
      "    square_sum = square_sum+i;\n",
      "\n",
      "end\n",
      "\n",
      "square_sum1 = square_sum^2;\n",
      "\n",
      "difference = abs(sum_square-square_sum1);"
     ],
     "language": "python",
     "metadata": {},
     "outputs": [],
     "prompt_number": 11
    },
    {
     "cell_type": "code",
     "collapsed": false,
     "input": [
      "square_sum1"
     ],
     "language": "python",
     "metadata": {},
     "outputs": [
      {
       "metadata": {},
       "output_type": "pyout",
       "prompt_number": 12,
       "text": [
        "25502500"
       ]
      }
     ],
     "prompt_number": 12
    },
    {
     "cell_type": "code",
     "collapsed": false,
     "input": [
      "println(difference)"
     ],
     "language": "python",
     "metadata": {},
     "outputs": [
      {
       "output_type": "stream",
       "stream": "stdout",
       "text": [
        "25164150"
       ]
      },
      {
       "output_type": "stream",
       "stream": "stdout",
       "text": [
        "\n"
       ]
      }
     ],
     "prompt_number": 13
    },
    {
     "cell_type": "code",
     "collapsed": false,
     "input": [
      "\n",
      "Y = [1];\n",
      "X = 0;                   # initialize loop control variable (X)\n",
      "\n"
     ],
     "language": "python",
     "metadata": {},
     "outputs": [
      {
       "metadata": {},
       "output_type": "pyout",
       "prompt_number": 21,
       "text": [
        "0"
       ]
      }
     ],
     "prompt_number": 21
    },
    {
     "cell_type": "code",
     "collapsed": false,
     "input": [
      "while X <= 100           # test loop control variable\n",
      "    push!(Y, X^2);\n",
      "    X = X + 1;          # modify loop control variable\n",
      "end"
     ],
     "language": "python",
     "metadata": {},
     "outputs": [],
     "prompt_number": 22
    },
    {
     "cell_type": "code",
     "collapsed": false,
     "input": [
      "Y"
     ],
     "language": "python",
     "metadata": {},
     "outputs": [
      {
       "metadata": {},
       "output_type": "pyout",
       "prompt_number": 23,
       "text": [
        "102-element Array{Int64,1}:\n",
        "     1\n",
        "     0\n",
        "     1\n",
        "     4\n",
        "     9\n",
        "    16\n",
        "    25\n",
        "    36\n",
        "    49\n",
        "    64\n",
        "    81\n",
        "   100\n",
        "   121\n",
        "     \u22ee\n",
        "  7921\n",
        "  8100\n",
        "  8281\n",
        "  8464\n",
        "  8649\n",
        "  8836\n",
        "  9025\n",
        "  9216\n",
        "  9409\n",
        "  9604\n",
        "  9801\n",
        " 10000"
       ]
      }
     ],
     "prompt_number": 23
    },
    {
     "cell_type": "code",
     "collapsed": false,
     "input": [],
     "language": "python",
     "metadata": {},
     "outputs": []
    }
   ],
   "metadata": {}
  }
 ]
}